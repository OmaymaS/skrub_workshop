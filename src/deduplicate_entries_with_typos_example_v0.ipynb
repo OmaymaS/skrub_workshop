{
 "cells": [
  {
   "cell_type": "code",
   "execution_count": 57,
   "id": "50be8597",
   "metadata": {},
   "outputs": [],
   "source": [
    "from skrub.datasets import make_deduplication_data\n",
    "import pandas as pd\n",
    "from skrub import deduplicate"
   ]
  },
  {
   "cell_type": "code",
   "execution_count": null,
   "id": "41e93a68",
   "metadata": {},
   "outputs": [
    {
     "data": {
      "text/plain": [
       "2100"
      ]
     },
     "execution_count": 58,
     "metadata": {},
     "output_type": "execute_result"
    }
   ],
   "source": [
    "## read sample data\n",
    "sample_data = pd.read_csv(\"../data/duplicated_country_5.csv\")"
   ]
  }
 ],
 "metadata": {
  "kernelspec": {
   "display_name": ".venv",
   "language": "python",
   "name": "python3"
  },
  "language_info": {
   "codemirror_mode": {
    "name": "ipython",
    "version": 3
   },
   "file_extension": ".py",
   "mimetype": "text/x-python",
   "name": "python",
   "nbconvert_exporter": "python",
   "pygments_lexer": "ipython3",
   "version": "3.12.3"
  }
 },
 "nbformat": 4,
 "nbformat_minor": 5
}
