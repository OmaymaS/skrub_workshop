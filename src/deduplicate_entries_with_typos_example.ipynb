{
 "cells": [
  {
   "cell_type": "code",
   "execution_count": 57,
   "id": "50be8597",
   "metadata": {},
   "outputs": [],
   "source": [
    "from skrub.datasets import make_deduplication_data\n",
    "import pandas as pd\n",
    "from skrub import deduplicate"
   ]
  },
  {
   "cell_type": "code",
   "execution_count": 58,
   "id": "41e93a68",
   "metadata": {},
   "outputs": [
    {
     "data": {
      "text/plain": [
       "2100"
      ]
     },
     "execution_count": 58,
     "metadata": {},
     "output_type": "execute_result"
    }
   ],
   "source": [
    "## read sample data\n",
    "sample_data = pd.read_csv(\"../data/duplicated_country_5.csv\")\n",
    "len(sample_data)"
   ]
  },
  {
   "cell_type": "code",
   "execution_count": 59,
   "id": "99d71978",
   "metadata": {},
   "outputs": [
    {
     "data": {
      "text/html": [
       "<div>\n",
       "<style scoped>\n",
       "    .dataframe tbody tr th:only-of-type {\n",
       "        vertical-align: middle;\n",
       "    }\n",
       "\n",
       "    .dataframe tbody tr th {\n",
       "        vertical-align: top;\n",
       "    }\n",
       "\n",
       "    .dataframe thead th {\n",
       "        text-align: right;\n",
       "    }\n",
       "</style>\n",
       "<table border=\"1\" class=\"dataframe\">\n",
       "  <thead>\n",
       "    <tr style=\"text-align: right;\">\n",
       "      <th></th>\n",
       "      <th>name</th>\n",
       "      <th>count</th>\n",
       "    </tr>\n",
       "  </thead>\n",
       "  <tbody>\n",
       "    <tr>\n",
       "      <th>47</th>\n",
       "      <td>germany</td>\n",
       "      <td>1441</td>\n",
       "    </tr>\n",
       "    <tr>\n",
       "      <th>14</th>\n",
       "      <td>Egypt</td>\n",
       "      <td>474</td>\n",
       "    </tr>\n",
       "    <tr>\n",
       "      <th>19</th>\n",
       "      <td>United States of America</td>\n",
       "      <td>96</td>\n",
       "    </tr>\n",
       "    <tr>\n",
       "      <th>25</th>\n",
       "      <td>bermany</td>\n",
       "      <td>4</td>\n",
       "    </tr>\n",
       "    <tr>\n",
       "      <th>73</th>\n",
       "      <td>mgypt</td>\n",
       "      <td>3</td>\n",
       "    </tr>\n",
       "    <tr>\n",
       "      <th>...</th>\n",
       "      <td>...</td>\n",
       "      <td>...</td>\n",
       "    </tr>\n",
       "    <tr>\n",
       "      <th>27</th>\n",
       "      <td>cetmany</td>\n",
       "      <td>1</td>\n",
       "    </tr>\n",
       "    <tr>\n",
       "      <th>26</th>\n",
       "      <td>cermany</td>\n",
       "      <td>1</td>\n",
       "    </tr>\n",
       "    <tr>\n",
       "      <th>24</th>\n",
       "      <td>aermany</td>\n",
       "      <td>1</td>\n",
       "    </tr>\n",
       "    <tr>\n",
       "      <th>23</th>\n",
       "      <td>Uoioed States of America</td>\n",
       "      <td>1</td>\n",
       "    </tr>\n",
       "    <tr>\n",
       "      <th>81</th>\n",
       "      <td>zermpny</td>\n",
       "      <td>1</td>\n",
       "    </tr>\n",
       "  </tbody>\n",
       "</table>\n",
       "<p>82 rows × 2 columns</p>\n",
       "</div>"
      ],
      "text/plain": [
       "                        name  count\n",
       "47                   germany   1441\n",
       "14                     Egypt    474\n",
       "19  United States of America     96\n",
       "25                   bermany      4\n",
       "73                     mgypt      3\n",
       "..                       ...    ...\n",
       "27                   cetmany      1\n",
       "26                   cermany      1\n",
       "24                   aermany      1\n",
       "23  Uoioed States of America      1\n",
       "81                   zermpny      1\n",
       "\n",
       "[82 rows x 2 columns]"
      ]
     },
     "execution_count": 59,
     "metadata": {},
     "output_type": "execute_result"
    }
   ],
   "source": [
    "sample_data.groupby(\"name\").size().reset_index(name=\"count\").sort_values(\n",
    "    by=\"count\", ascending=False\n",
    ")"
   ]
  },
  {
   "cell_type": "code",
   "execution_count": 60,
   "id": "08a63b02",
   "metadata": {},
   "outputs": [],
   "source": [
    "deduplicated_data = deduplicate(sample_data[\"name\"])"
   ]
  },
  {
   "cell_type": "code",
   "execution_count": 61,
   "id": "859ce70c",
   "metadata": {},
   "outputs": [],
   "source": [
    "deduplicated_data_df = pd.DataFrame(\n",
    "    deduplicated_data, columns=[\"name_suggested\"]\n",
    ").reset_index(names=\"name_original\")"
   ]
  },
  {
   "cell_type": "code",
   "execution_count": 62,
   "id": "819739cf",
   "metadata": {},
   "outputs": [],
   "source": [
    "deduplicated_data_df[\"same_name\"] = (\n",
    "    deduplicated_data_df[\"name_original\"] == deduplicated_data_df[\"name_suggested\"]\n",
    ")"
   ]
  },
  {
   "cell_type": "code",
   "execution_count": null,
   "id": "754666f7",
   "metadata": {},
   "outputs": [
    {
     "data": {
      "text/plain": [
       "array(['Egypt', 'germany', 'United States of America'], dtype=object)"
      ]
     },
     "execution_count": 65,
     "metadata": {},
     "output_type": "execute_result"
    }
   ],
   "source": [
    "## the three clusters\n",
    "deduplicated_data_df[\"name_suggested\"].unique()"
   ]
  },
  {
   "cell_type": "code",
   "execution_count": 63,
   "id": "0d85cc7d",
   "metadata": {},
   "outputs": [],
   "source": [
    "deduplicated_data_df.sort_values(by=[\"same_name\", \"name_suggested\"]).reset_index(\n",
    "    drop=True\n",
    ").to_csv(\n",
    "    \"../data/duplicated_country_5_output.csv\",\n",
    "    index=False,\n",
    ")"
   ]
  }
 ],
 "metadata": {
  "kernelspec": {
   "display_name": ".venv",
   "language": "python",
   "name": "python3"
  },
  "language_info": {
   "codemirror_mode": {
    "name": "ipython",
    "version": 3
   },
   "file_extension": ".py",
   "mimetype": "text/x-python",
   "name": "python",
   "nbconvert_exporter": "python",
   "pygments_lexer": "ipython3",
   "version": "3.12.3"
  }
 },
 "nbformat": 4,
 "nbformat_minor": 5
}
