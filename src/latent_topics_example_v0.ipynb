{
 "cells": [
  {
   "cell_type": "code",
   "execution_count": null,
   "id": "83dc0178",
   "metadata": {},
   "outputs": [],
   "source": [
    "from skrub import (\n",
    "    GapEncoder,\n",
    "    TableReport,\n",
    "    TextEncoder,\n",
    "    TableVectorizer,\n",
    ")\n",
    "from sklearn.ensemble import HistGradientBoostingClassifier\n",
    "from sklearn.pipeline import make_pipeline\n",
    "import pandas as pd\n",
    "from utils import plot_gap_feature_importance"
   ]
  },
  {
   "cell_type": "code",
   "execution_count": null,
   "id": "4fc0d388",
   "metadata": {},
   "outputs": [],
   "source": [
    "highlights_sample_01 = pd.read_csv(\"../data/highlights_sample_01.csv\")"
   ]
  },
  {
   "cell_type": "code",
   "execution_count": null,
   "id": "02fbbdac",
   "metadata": {},
   "outputs": [],
   "source": [
    "TableReport(highlights_sample_01)"
   ]
  }
 ],
 "metadata": {
  "kernelspec": {
   "display_name": ".venv",
   "language": "python",
   "name": "python3"
  },
  "language_info": {
   "codemirror_mode": {
    "name": "ipython",
    "version": 3
   },
   "file_extension": ".py",
   "mimetype": "text/x-python",
   "name": "python",
   "nbconvert_exporter": "python",
   "pygments_lexer": "ipython3",
   "version": "3.12.3"
  }
 },
 "nbformat": 4,
 "nbformat_minor": 5
}
